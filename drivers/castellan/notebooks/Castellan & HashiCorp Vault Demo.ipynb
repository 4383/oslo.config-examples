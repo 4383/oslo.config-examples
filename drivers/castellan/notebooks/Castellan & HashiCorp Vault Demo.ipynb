{
 "cells": [
  {
   "cell_type": "code",
   "execution_count": 1,
   "metadata": {},
   "outputs": [],
   "source": [
    "sample_conf = {\n",
    "    \"DEFAULT\": {\n",
    "        \"my_service_token\": \"f125-2748-fc58-4e5e-dc54-4a16-64d3-1155\",\n",
    "        \"my_service_key\": \"i8Jxdj+cQYP3n+gDxlmNFpDCBtjP3ObqFaGmZzlw=\",\n",
    "    },\n",
    "    \"db\": {\n",
    "        \"username\": \"node_xyz\",\n",
    "        \"password\": \"Y6EK}WjyfnQTRyTV%pdD7XTw\",\n",
    "    }\n",
    "}"
   ]
  },
  {
   "cell_type": "code",
   "execution_count": 2,
   "metadata": {},
   "outputs": [
    {
     "name": "stdout",
     "output_type": "stream",
     "text": [
      "node_xyz\n"
     ]
    }
   ],
   "source": [
    "print(sample_conf['db']['username'])"
   ]
  },
  {
   "cell_type": "code",
   "execution_count": 3,
   "metadata": {},
   "outputs": [],
   "source": [
    "from castellan.key_manager.vault_key_manager import VaultKeyManager\n",
    "\n",
    "def config_to_id_map(conf):\n",
    "    km = VaultKeyManager()"
   ]
  },
  {
   "cell_type": "code",
   "execution_count": 1,
   "metadata": {},
   "outputs": [
    {
     "name": "stdout",
     "output_type": "stream",
     "text": [
      "TMPDIR /var/folders/fd/tvjghjfn2b1_y0vv7q4v1fp80000gn/T/\n",
      "\n",
      "VIRTUAL_ENV /Users/moisesguimaraes/workspaces/python/demo-castellan-oslo.config-vault/.tox/py36\n",
      "\n",
      "PYTHONHASHSEED 2069249242\n",
      "\n",
      "PATH /Users/moisesguimaraes/workspaces/python/demo-castellan-oslo.config-vault/.tox/py36/bin:/Users/moisesguimaraes/.pyenv/versions/tools3/bin:/usr/local/Cellar/pyenv/1.2.6/libexec:/Users/moisesguimaraes/.ve/demo-castellan-oslo.config-vault/bin:/Users/moisesguimaraes/.pyenv/shims:/usr/local/bin:/usr/bin:/bin:/usr/sbin:/sbin:/Applications/VMware Fusion.app/Contents/Public:/Applications/Wireshark.app/Contents/MacOS:/Applications/kitty.app/Contents/MacOS:/Users/moisesguimaraes/.gitextras:/Users/moisesguimaraes/.checker/279/bin\n",
      "\n",
      "PWD /Users/moisesguimaraes/workspaces/python/demo-castellan-oslo.config-vault\n",
      "\n",
      "LANG pt_BR.UTF-8\n",
      "\n",
      "SHLVL 1\n",
      "\n",
      "HOME /Users/moisesguimaraes\n",
      "\n",
      "_ /Users/moisesguimaraes/workspaces/python/demo-castellan-oslo.config-vault/.tox/py36/bin/pifpaf\n",
      "\n",
      "__CF_USER_TEXT_ENCODING 0x1F5:0x0:0x47\n",
      "\n",
      "VAULT_TEST_DATA /var/folders/fd/tvjghjfn2b1_y0vv7q4v1fp80000gn/T/tmpcqfzbmom\n",
      "\n",
      "VAULT_TEST_ROOT_TOKEN 88bab9f1-9c17-4ed9-9080-b65bd32b1ee6\n",
      "\n",
      "VAULT_TEST_VAULT_ADDR http://127.0.0.1:8200\n",
      "\n",
      "VAULT_TEST_URL http://127.0.0.1:8200\n",
      "\n",
      "VAULT_TEST_PID 12375\n",
      "\n",
      "VAULT_TEST_DAEMON vault\n",
      "\n",
      "VAULT_TEST_VAULT_URL http://127.0.0.1:8200\n",
      "\n",
      "PIFPAF_URLS http://127.0.0.1:8200\n",
      "\n",
      "JPY_PARENT_PID 12379\n",
      "\n",
      "TERM xterm-color\n",
      "\n",
      "CLICOLOR 1\n",
      "\n",
      "PAGER cat\n",
      "\n",
      "GIT_PAGER cat\n",
      "\n",
      "MPLBACKEND module://ipykernel.pylab.backend_inline\n",
      "\n"
     ]
    }
   ],
   "source": [
    "import os\n",
    "\n",
    "for k, v in os.environ.items():\n",
    "    print(k, v)\n",
    "    print()"
   ]
  },
  {
   "cell_type": "code",
   "execution_count": null,
   "metadata": {},
   "outputs": [],
   "source": []
  }
 ],
 "metadata": {
  "kernelspec": {
   "display_name": "Python 3",
   "language": "python",
   "name": "python3"
  },
  "language_info": {
   "codemirror_mode": {
    "name": "ipython",
    "version": 3
   },
   "file_extension": ".py",
   "mimetype": "text/x-python",
   "name": "python",
   "nbconvert_exporter": "python",
   "pygments_lexer": "ipython3",
   "version": "3.7.0"
  }
 },
 "nbformat": 4,
 "nbformat_minor": 2
}
